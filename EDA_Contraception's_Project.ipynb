{
  "nbformat": 4,
  "nbformat_minor": 0,
  "metadata": {
    "colab": {
      "name": "EDA Contraception's Project.ipynb",
      "provenance": [],
      "collapsed_sections": [],
      "include_colab_link": true
    },
    "kernelspec": {
      "name": "python3",
      "display_name": "Python 3"
    }
  },
  "cells": [
    {
      "cell_type": "markdown",
      "metadata": {
        "id": "view-in-github",
        "colab_type": "text"
      },
      "source": [
        "<a href=\"https://colab.research.google.com/github/Ben-Judas/Capstone-s-Project/blob/main/EDA_Contraception's_Project.ipynb\" target=\"_parent\"><img src=\"https://colab.research.google.com/assets/colab-badge.svg\" alt=\"Open In Colab\"/></a>"
      ]
    },
    {
      "cell_type": "markdown",
      "metadata": {
        "id": "lsDrM8l-04op"
      },
      "source": [
        "# Objective\n",
        "What is the objective or goal that you are trying to accomplish? What is the decision that you must make?"
      ]
    },
    {
      "cell_type": "code",
      "metadata": {
        "id": "w-GUhxgN00RG"
      },
      "source": [
        ""
      ],
      "execution_count": null,
      "outputs": []
    },
    {
      "cell_type": "markdown",
      "metadata": {
        "id": "8Fv7ykXU0_I5"
      },
      "source": [
        "# Hypothesis: Research Question?\n",
        " What is the question that you would like to answer in order to make a decision."
      ]
    },
    {
      "cell_type": "code",
      "metadata": {
        "id": "jJRBPtaDDoJP"
      },
      "source": [
        ""
      ],
      "execution_count": null,
      "outputs": []
    },
    {
      "cell_type": "markdown",
      "metadata": {
        "id": "9pBreNBF1FgG"
      },
      "source": [
        "# Data Source\n",
        "Explain where did you get the data. How can you trust this data? Who produced this data and what were their motiviations?\n"
      ]
    },
    {
      "cell_type": "code",
      "metadata": {
        "id": "CNFnyfmWDon4"
      },
      "source": [
        ""
      ],
      "execution_count": null,
      "outputs": []
    },
    {
      "cell_type": "markdown",
      "metadata": {
        "id": "LdBQ_GkJ1xX0"
      },
      "source": [
        "# Data Cleaning\n",
        "In this step you will prepare your data for analysis.\n",
        "\n",
        "## Review data types\n",
        "Inspect the dataset for the data types of each column.\n",
        "\n",
        "## Analytical Transformations\n",
        "Perform any transformation on the columns in the dataset to enable further analysis.\n",
        "\n",
        "### Treatment of Missing Values\n",
        "If there are any missing values, how do you plan to treat those data columns?"
      ]
    },
    {
      "cell_type": "code",
      "metadata": {
        "id": "E9L98pYKDpCb"
      },
      "source": [
        ""
      ],
      "execution_count": null,
      "outputs": []
    },
    {
      "cell_type": "markdown",
      "metadata": {
        "id": "WHp-JTxP10Uu"
      },
      "source": [
        "# Data Analysis\n",
        "Explore the dataset to discover relationships between records or columns and patterns within the data.\n",
        "\n",
        "## Descriptive Statistical Analysis\n",
        "Using basic statistical measures such as measurements of central tendancy such as mean, median and mode.\n",
        "\n",
        "### Distribution of Variables\n",
        "Identify the distribution of the data to understand the range of values and how the data is structured.\n",
        "\n",
        "### Outliers in the dataset\n",
        "Identify if there are any outliers in the dataset based on statistical measures."
      ]
    },
    {
      "cell_type": "code",
      "metadata": {
        "id": "gzOqBRtwDpx0"
      },
      "source": [
        ""
      ],
      "execution_count": null,
      "outputs": []
    },
    {
      "cell_type": "markdown",
      "metadata": {
        "id": "IUywflAl9L3W"
      },
      "source": [
        "# Reflections\n",
        "## Summary of Data Analysis\n",
        "- What insights should the user takeaway from EDA.\n",
        "\n",
        "## Questions unanswered\n",
        "- What aspects of the research question were we unable to answer and why?\n",
        "\n",
        "## Recommendations\n",
        "- What should the reader do next with this information?\n",
        "\n",
        "## Next Steps\n",
        "- What will the analyst do next based on the analysis?"
      ]
    },
    {
      "cell_type": "code",
      "metadata": {
        "id": "91B1ac_JDqY1"
      },
      "source": [
        ""
      ],
      "execution_count": null,
      "outputs": []
    }
  ]
}